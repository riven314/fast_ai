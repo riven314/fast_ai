{
 "cells": [
  {
   "cell_type": "markdown",
   "metadata": {},
   "source": [
    "# Table of contents"
   ]
  },
  {
   "cell_type": "code",
   "execution_count": 1,
   "metadata": {
    "collapsed": true
   },
   "outputs": [],
   "source": [
    "%matplotlib inline\n",
    "import math, sys, os, numpy as np\n",
    "from numpy.random import random\n",
    "from matplotlib import pyplot as plt, rcParams, animation, rc\n",
    "from __future__ import print_function, division\n",
    "from ipywidgets import interact, interactive, fixed\n",
    "from ipywidgets.widgets import *\n",
    "\n",
    "rc('animation', html='html5')\n",
    "rcParams['figure.figsize'] = 3, 3\n",
    "%precision 4\n",
    "np.set_printoptions(precision=4, linewidth=100)"
   ]
  },
  {
   "cell_type": "code",
   "execution_count": 2,
   "metadata": {
    "collapsed": true
   },
   "outputs": [],
   "source": [
    "def lin(a, b, x):\n",
    "    return a * x + b"
   ]
  },
  {
   "cell_type": "code",
   "execution_count": 3,
   "metadata": {},
   "outputs": [],
   "source": [
    "a = 3.\n",
    "b = 8."
   ]
  },
  {
   "cell_type": "code",
   "execution_count": 4,
   "metadata": {
    "collapsed": true
   },
   "outputs": [],
   "source": [
    "n = 30\n",
    "x = random(n)\n",
    "y = lin(a, b, x)"
   ]
  },
  {
   "cell_type": "code",
   "execution_count": 5,
   "metadata": {},
   "outputs": [
    {
     "data": {
      "text/plain": [
       "array([ 0.0372,  0.7535,  0.2216,  0.8355,  0.9219,  0.4065,  0.91  ,  0.9996,  0.4822,  0.069 ,\n",
       "        0.9264,  0.4453,  0.8118,  0.1837,  0.2623,  0.2754,  0.0844,  0.937 ,  0.898 ,  0.7451,\n",
       "        0.9344,  0.6035,  0.3814,  0.3602,  0.7216,  0.511 ,  0.0957,  0.2562,  0.0099,  0.4197])"
      ]
     },
     "execution_count": 5,
     "metadata": {},
     "output_type": "execute_result"
    }
   ],
   "source": [
    "x"
   ]
  },
  {
   "cell_type": "code",
   "execution_count": 6,
   "metadata": {},
   "outputs": [
    {
     "data": {
      "text/plain": [
       "array([  8.1116,  10.2605,   8.6647,  10.5066,  10.7657,   9.2194,  10.7299,  10.9987,   9.4466,\n",
       "         8.207 ,  10.7793,   9.336 ,  10.4353,   8.5511,   8.7869,   8.8263,   8.2532,  10.8109,\n",
       "        10.6941,  10.2353,  10.8033,   9.8105,   9.1443,   9.0806,  10.1649,   9.5331,   8.287 ,\n",
       "         8.7687,   8.0297,   9.259 ])"
      ]
     },
     "execution_count": 6,
     "metadata": {},
     "output_type": "execute_result"
    }
   ],
   "source": [
    "y"
   ]
  },
  {
   "cell_type": "code",
   "execution_count": 7,
   "metadata": {},
   "outputs": [
    {
     "data": {
      "text/plain": [
       "<matplotlib.collections.PathCollection at 0x7f70e4eb5710>"
      ]
     },
     "execution_count": 7,
     "metadata": {},
     "output_type": "execute_result"
    },
    {
     "data": {
      "image/png": "[encoded data removed]",
      "text/plain": [
       "<matplotlib.figure.Figure at 0x7f710f4fc8d0>"
      ]
     },
     "metadata": {},
     "output_type": "display_data"
    }
   ],
   "source": [
    "plt.scatter(x, y)"
   ]
  },
  {
   "cell_type": "code",
   "execution_count": 8,
   "metadata": {
    "collapsed": true
   },
   "outputs": [],
   "source": [
    "def sse(y, y_pred):\n",
    "    return ((y - y_pred) ** 2).sum()"
   ]
  },
  {
   "cell_type": "code",
   "execution_count": 9,
   "metadata": {
    "collapsed": true
   },
   "outputs": [],
   "source": [
    "def loss(y, a, b, x):\n",
    "    return sse(y, lin(a, b, x))"
   ]
  },
  {
   "cell_type": "code",
   "execution_count": 10,
   "metadata": {
    "collapsed": true
   },
   "outputs": [],
   "source": [
    "def avg_loss(y, a, b, x):\n",
    "    return np.sqrt(loss(y, a, b, x) / n)"
   ]
  },
  {
   "cell_type": "code",
   "execution_count": 11,
   "metadata": {},
   "outputs": [
    {
     "data": {
      "text/plain": [
       "9.1566"
      ]
     },
     "execution_count": 11,
     "metadata": {},
     "output_type": "execute_result"
    }
   ],
   "source": [
    "a_guess = -1.\n",
    "b_guess = 1.\n",
    "avg_loss(y, a_guess, b_guess, x)"
   ]
  },
  {
   "cell_type": "code",
   "execution_count": 12,
   "metadata": {},
   "outputs": [],
   "source": [
    "lr = 0.01"
   ]
  },
  {
   "cell_type": "code",
   "execution_count": 17,
   "metadata": {
    "collapsed": true
   },
   "outputs": [],
   "source": [
    "def upd():\n",
    "    global a_guess, b_guess\n",
    "    y_pred = lin(a_guess, b_guess, x)\n",
    "    dydb = 2 * (y_pred - y)\n",
    "    dyda = x * dydb\n",
    "    a_guess -= lr * dyda.mean()\n",
    "    b_guess -= lr * dydb.mean()"
   ]
  },
  {
   "cell_type": "code",
   "execution_count": 18,
   "metadata": {},
   "outputs": [
    {
     "data": {
      "text/html": [
       "<video width=\"500\" height=\"400\" controls autoplay loop>\n",
       "  <source type=\"video/mp4\" src=\"data:video/mp4;base64,AAAAHGZ0eXBNNFYgAAACAGlzb21pc28yYXZjMQAAAAhmcmVlAABR7W1kYXQAAAKvBgX//6vcRem9\n",
       "5tlIt5Ys2CDZI+7veDI2NCAtIGNvcmUgMTQ4IHIyNjQzIDVjNjU3MDQgLSBILjI2NC9NUEVHLTQg\n",
       "QVZDIGNvZGVjIC0gQ29weWxlZnQgMjAwMy0yMDE1IC0gaHR0cDovL3d3dy52aWRlb2xhbi5vcmcv\n",
       "eDI2NC5odG1sIC0gb3B0aW9uczogY2FiYWM9MSByZWY9MyBkZWJsb2NrPTE6MDowIGFuYWx5c2U9\n",
       "MHgzOjB4MTEzIG1lPWhleCBzdWJtZT03IHBzeT0xIHBzeV9yZD0xLjAwOjAuMDAgbWl4ZWRfcmVm\n",
       "PTEgbWVfcmFuZ2U9MTYgY2hyb21hX21lPTEgdHJlbGxpcz0xIDh4OGRjdD0xIGNxbT0wIGRlYWR6\n",
       "b25lPTIxLDExIGZhc3RfcHNraXA9MSBjaHJvbWFfcXBfb2Zmc2V0PS0yIHRocmVhZHM9MTIgbG9v\n",
       "a2FoZWFkX3RocmVhZHM9MiBzbGljZWRfdGhyZWFkcz0wIG5yPTAgZGVjaW1hdGU9MSBpbnRlcmxh\n",
       "Y2VkPTAgYmx1cmF5X2NvbXBhdD0wIGNvbnN0cmFpbmVkX2ludHJhPTAgYmZyYW1lcz0zIGJfcHly\n",
       "YW1pZD0yIGJfYWRhcHQ9MSBiX2JpYXM9MCBkaXJlY3Q9MSB3ZWlnaHRiPTEgb3Blbl9nb3A9MCB3\n",
       "ZWlnaHRwPTIga2V5aW50PTI1MCBrZXlpbnRfbWluPTEwIHNjZW5lY3V0PTQwIGludHJhX3JlZnJl\n",
       "c2g9MCByY19sb29rYWhlYWQ9NDAgcmM9Y3JmIG1idHJlZT0xIGNyZj0yMy4wIHFjb21wPTAuNjAg\n",
       "cXBtaW49MCBxcG1heD02OSBxcHN0ZXA9NCBpcF9yYXRpbz0xLjQwIGFxPTE6MS4wMACAAAASm2WI\n",
       "hAA///73aJ8Cm1pDeoDklcUl20+B/6tncHyP6QMAAAMAAAMAJAL8x7+hB0M0IAAAUInP4LJXTUFR\n",
       "Bq1ViRE7nmVugr3qHwjjbq4yqtZnH2dD/PRH4qMF3383q0XiC6K7q89B8NNF+yB4lSsc8GA2Q9EM\n",
       "SZo46MPVl5rm6Gw5AAKX+iwd+3rFaMEk4+oO76qWRx4hx39KDInFzMVcVWpBFcwITKjBF0uSVvkF\n",
       "8Pejf+CxmKaDOlgx6W6QXreI3rmG/1oSqhjPwk6OKxIb11Mtpqy/BAgPG53pGTKV6PemWa4KJG9y\n",
       "H+U48hDQge61G3au3FuGEHps2mlFvUHReBUP9er3EY2qpWoElyeCpo2V70vAg5KwtzmaK6ip8s+f\n",
       "lCVBxCqA9ZXOh7ejmZaugIXZXf+jSigAPbkNDe0ma2CPK8uK6z5J7kXQp2+4z62atCJ9MyY9uKmi\n",
       "uwAUb+whz2ZP99XSyeGmvox2Imz66YIdCRojdst8aCqpPdMdz9G0bpz5bt2i6FxFOfYwSSFJ24ec\n",
       "N7Azp8T9EYqpCZLFW0LlwKwhhPsdyHvudjfgzO0NTtk23ScHo3IrbzQ194C2xV/LJ4zcpYySoQ3A\n",
       "IaifKNTZz3SLYQn+OLWq7wqb/l1BqiGS9CWoljVnK05SIK2xaWY4PCG1rxQ7pNbk1osD8lAYJHsW\n",
       "1ziV4SM4qds7d1Tf8pncLtGBnS75Ry5XGjbB9T3rJ+Yzdx2x4fk9dHRIQbp+WD+eo2RL3szDVl+r\n",
       "4MRCdLPy0+eeEfIER8MvMGcthSje6T/h4PT5oy9eFoXvKBHM/9NrBDhRRxH5NK9kOQL8zOQCj5Mc\n",
       "NGCLHO8VnEkj+NMuKjOeVWbueTLjzQW0cm0zPdgqRWriCJdEFq5AIhxEbQFdaAo6gnE0ZNgB4F3O\n",
       "8kojjBblnyPdW0zQ053MVeqCUwsEQ40Lm99OWHCuqq0D0nAc9r9aht8VEDxs8maLFbB7DQuv+i+l\n",
       "Yl7l1LqwFVbAKKzTwaU/muNhQQA9CeBF3i+YoPhwfkY9C3FMva55mG0tfvNsgWYKb4j/74pkKDzN\n",
       "VCjWAlt7tIqR0h+hR2C/GB2pOeatNYkcnDvjOC+AeJJqVKP7FEA7x/lfao+3xL/57kxN4QCJXY0R\n",
       "NWkmw0OlVhESvKX7SCmvDKHL576h6DXYrOqtKeswkdBjV7F5Hjtp+dZMGQ4yQuBVSk2M3lXaR8lx\n",
       "p7RYOKPhY1vG2xVV2I2PxqqMxZCdfXKGk24R2Rmf+uZcOPrcMO9mnDM4oTRKMWlPTzS2xAmZMAs8\n",
       "blp34K1HV0CAlkmh80BP7hmWENwAAA1FgIM+pne9mmK8sXvmgeMvX9ry+n9L9omm1zeEM8vz+qXV\n",
       "wdD7n6DmUUWQdopz1RNndUQvKcOYpsdMSMOIcDQPciQYicByGDThEUM8rUeeSZ95SAhCFfjh+Gj5\n",
       "pCUvA/DXL2qdrP3n8BE931kCLHRLebC+CAOOec4HT9UN/bQLeXRdmJW0gqZF63WNgw7grIESZE5k\n",
       "XrWVIGeTMBkfb51lpqLe5gr4Z4t+72FoX+zUGzF8d45PhaNVxT+ZRVJIF9an2/xZhJEbVSJ8R146\n",
       "9e+hz3on0B4KfrZgI8j5QWyvcPMaHcIfz0Y7h9DX5WwDX3w/L3TCi6M78zRq66rHoHDW0DffTKt+\n",
       "mc+tt9gNfpjaIN8AD458hKX7GGNv9ZecSQ+32o0evAr1uoRqxr9QNV5ErIAEd8cP/LtdBx2J0Dbr\n",
       "9a4p2WubjgRTLezySXKcKY3JfMxf82E+9Lk37NByiUzq7fP4LfN0DTIBytWYptXM7GKSlpGZrC3V\n",
       "lHW8+49n1tcV5OjW55lDTI2GXpO3PDm4hDStdGeNcTuIFiiStRHNbAP7slf13EJN0cYlCrMbLU9K\n",
       "KfiXdFCxCop3Yg9yNRutgXjcnaDlldKTnL5SvMdYwh+q30UM8Oto17aWSq0DP6l/NByk6cPQIFf0\n",
       "VPNwb+2yvXM/N6zg4WC7wXaPSogothn/TWwY6upJjltMPoWHqNTJ3l2hnfheDNUAz2suDL0DAi60\n",
       "efXPfoeYE5u/+EGIjEb4qpbUWXZ3arefsrtWFTyQbGe9mW5f22vzJ9hd9uB3s1ufzPiP2rulJBvN\n",
       "62WwMouQKE7Xxrscc4kFK9e/xNF5uezJI36vUobJ76RO6rlBHYwcpSbFEYyJnq2VdrTlv/F28P2L\n",
       "Z4SFf2k6D49ELkBmFFdnOjB6FRN4xJKm4eGFYzctJt0EP2XQ/FGG2HBrHF/Vfyfc7VzsENPE/bQb\n",
       "FfzFiyIMxcjU7U5fqNqIhjn9DD5ioHxmL/qazvKmcrFrhu2c+sCcu9QxGH6rXLlLZMnQLEtIcFyj\n",
       "+l1xUz9R9xT7g78Wvr4c24qbeLEFOUMb2He+4RN2PusYH0Dw4pfJQYCJMIt+/FE6ZUe8dB940Cb9\n",
       "mkmJbfAObtVRa3uemznYQ+a00XbaE9dAtu7E7GgvXp1GNxKFiLSRrs/e41t4h+SX1Ib/8LYTe03y\n",
       "lvJnns39vhc1yQu5+lJlvw9mYRC58QUxuaukfm2p3b/Nb2JbRxfvOOzIAStrWU/svoUpjGlYIHNU\n",
       "0rY9SzfbNOM1V3M7V53zryQwCp1BWvZUfqGAZNMCpfDW57/RmjiFyMqDIKf9uPgvPyxbBIWthXgx\n",
       "Ml4AtKG9EIjgwMRaZifXGEn8lhdHeWYln0h1Xc0T+0pwHugU+XP1d2Ozf5KrPRwWbiiCdEe8g9vO\n",
       "EHSpiO2VblJQXQF33tFUd60JZ7baT7FkEmJguJ9bT5XrsZvQOHytra7BYZquGMh6BYcUaa9zdIUr\n",
       "xXbgRx93jmPiqOEmkplOGXEkAMD5WQuhSGkSO7SDVtgSDBMiwiTvdlEb2rgkAn1ZmnFIZf4mtjWk\n",
       "282ZwjVg5V3K62ulGYFlbzaoprkOGtNRAxVLjhXY546U1NNOZV9y1A3n9/Uj4qkfyAdI0GGyEaD6\n",
       "PEaSYD1FOJcW1kGeU7mYltuuE4ORyKr8mEy1yrk4Gx6Edlfoz9kT3Syrf/wXOKiv7Mg0dUbQsas3\n",
       "NWQe780oug2PVo78KVeFhS7EljnPPk5srfJrzt6s1PrZSKP5NmAnppJe28V+Pe8qxTzv0jVaWWm2\n",
       "lHVB87civ6FHQZ97XbNdfDk4SS6Jv6zQg1dBtNd3rIa4Y+OttRgsIQFvzvBOgzGWUCn3N0yfYxG4\n",
       "1EIiDfVOCq4LNt6WT8wVLYw9h93jC8skHRArRDi8KFUGCnzJO2lmU1fo2QYcoer69bDvDqiov6x7\n",
       "M/LL+3ap576q9LPbGDuHD2p5hpZAnISYhX51ypuREuR+eNGomUckcyAhvWe1/P484vOmtztKUf8W\n",
       "HsuGeuyyroO764SUJwdGIh9DXg1Pwiuff8R2736fPn7O8Bkg9rji0Q6rYWStATK/QXfly+dM0X6I\n",
       "ZDMl1ru0wO3Wty72SzT2GdTwXqAOt4/QV7Et6YzUWAPgK2uPTFBoWokTHJ4a+b2eT0YtfZoSQRHG\n",
       "T0jSPABV7Wz9ONg89z/q4ac/DGIXWCa87VVk/gX2Nom5DuG5liE83hQS1C30VrNvAe6SutJOmTSw\n",
       "3v2rTyXrPJIM+VeH5WLW4sLdzCPFqv9lvDbK+MXZqU+iVVWIi/tm80buFNkSOxCZC7Oboew5FHwY\n",
       "0i5Qii2/YRcAgbrtO2nYx+l2XfHegKyvjgwAxS4qAYUeBQBsI9O7dTQ+EtUukWM/onYE76Wp/xLX\n",
       "eyZ6HZ6sCtcQPTZp7la+ZE0gkFsed4RNas7EwaJRNenrAT3ASP2svr69tCXPjeIQISwV0YjzfNhl\n",
       "NouxyMW1FDgGUGZIZS2UmBeG8oOqvPBKXBN+uCI8xj39D6PRwAJ5lCQtF7NLuAHOwTj9GhWQLAi4\n",
       "Zi/Z9fNh+545I+7P3FJsAB+dgBI1LJhBoLuuvJWwp78mqNadBKAQqJQa1Jylm6+z1TnxWXlhgu23\n",
       "OK+UAlnEPo4vp0x/CNEJxpIqDsRqd7vk8omDoLF4xCc6GAHZI8/kaEIlGEfpOVb0osuTRtusx+eB\n",
       "5u2bv0IrrG+3ob8Zbfe3BaBWiKWe6fxSe3fIWAdTOKaDMutKYySYVcQnD8foAFVfi5nfNzYUPwvN\n",
       "t62mpKDHXnI1UV+AJXKQj2grlbzmwmmgfgFRTPu9wmAAgLfEr8S/+Mm8k6+EwvdoYE2wvAuEjHJ/\n",
       "6EHl9b/pbx8Q/W22TPTcTBv4s+ZnkvwqRj9DX6O2iM4JzWHewKRDOgWq0ou8kyNntV7B7YWtpHPc\n",
       "gCsR+81noZfTCeifrVzqhNPHnxEro+7DEH2/ZfeyAPTnuhYa1Wl7OxPtf3N4I2JIbalzm3H9WxD7\n",
       "c1W6b5IdnU7Bo1lSjb90AgACe/khQuJgC8SulCSltCyoX0TrenN3DerJay1qx5MhDeo/LM7P6RbG\n",
       "y+Gz3sB85vkdf779slGfjI++f7homQbRAJCyXvfAqEfs3r9X0Lsk7dYKtbAioAZbhLKRhjgNPfpe\n",
       "1PYIDqIoiS9GL8RcAgDo3ihxkF6RDVLVxjbXhUDgodoQ5vQ+jRZKzTPDJWCYNtUU5u/if6dcV/WG\n",
       "MfuXOawUtKpopWXv6Nn2nKLMQ3/VzOySKHLe9Yj9EtMECkcjuutH4+nkq0elF4sgYsX6OUygzrXd\n",
       "CHs1fmuSx/IPkQIoW4P8cUaI2hEW6LjY9rTvJEa8y0hvDkFaSO3Q0JYRVk3VWbMHiyyh9sFpa+Rv\n",
       "2tTiBPo46h9h4X9wrTm+y3hjmgCJ1fqfX0pWOlwP+FouOgAHwu/Np5PPRltO0LWZtVBBFXteIDm1\n",
       "TdyLL70qs+6l2quCZQeqOLicOOtyMD5xbD0ffA7V47W07nbJYLOg5hNqJ1L/iKWd4yIcLdS5hBKG\n",
       "LVmp/uquf6aK8H6uop3XN7Gfb7KoVPI3hcIgNZJkvQGFuUh6sqbOQ58evmz7VCods0Jekyb25HPH\n",
       "qieCG2P0sAbo2hFa51TaXwxDNGEPJpgAY1axG3m1kU42PcbHPRQeezcjv1ZB6NMODAKpkhpTXxou\n",
       "NXpa0bFysOVqZ+weZn94LVSLVYGVDfiJntcCyA3vmeEp0245AJtvihLX6XWG5e+1vl/trr8Xd3ph\n",
       "fd279ivcKRmVY5li7gwWzcMscSTwWjoKwgyAl+2MkTK3wQaA8m7YhpWjJve8QiDpL2F7cWaFSWjT\n",
       "/UkDcYUk0TyA7eM+iYLLgqQIiQRh0+Z05vpM/QGu4FhuwuJBBd0svQBQ7vzya3g75b2/m3sX537f\n",
       "JZ0iYPrxYnFrc3HxbsSiGFH+zv/u6GDhHNhPzqpJ9iuqOWtNwNhX5bu/nEV3bJf/+5acUPkcJjKx\n",
       "TL0m0n5DKRqsv7mdLS+wk4CyvQABxcWp6xfI9j4cQVkjCSqmSj9/+OnpxRajUAGz8Fu0S70far01\n",
       "lrKBEt7SLdcoXdVKdNe6H2z1VV1YGE0robXjy4H9sZNYWl4zGe9P6enRBu8lxINpbibabGrei8+q\n",
       "J65b4LaB8aClbq8nSbLgO/rToGMAULq+EzdtB9zM6zAmwsUObizLI5w7IDrTO2Pd13hIBgAYNC81\n",
       "/PF8ZiRcensrDBX3F3z3l46DFU6KvnEOadecP245aXarj0mFmoMLAxhhmAgoQvGSRamT+3aS8Vq9\n",
       "BXbhkja/RjzxAuQ1K1UGeqU2sx+77CoMFNlawLbX55F+k/UpKNX+rtsc6PdScu259VhChND7afrh\n",
       "PuWuK6szCTxVVllDhLsaZPwhiSi2wN601SdUiAWJKPJJEEhjJsDNzeQcJOvYOvaqjByhT5RvW5us\n",
       "O5OYZd2kBH33VRjAXsQBHekxix9+XWlrnSQduaAGypU/XCpuo+M/8LwsiSWKWUzFG/iIF/dI2Pf+\n",
       "kiROlnPHeBSeD2TmMazrfbjlcWG2gVuik9zBNaK+aGbXTvp25J8R+QsrWX+FE6ITwBS99LQhaIB1\n",
       "eruuP+pA1WB5GSJAQdZZ+7ylSFubwqjAdcgeGdV5nlrQuwlAlUq32mNJWlRYBneQol//da3jipk2\n",
       "Yk8IjKaHm3IWZ9ktD9xb8hLuJcboAYY4J0MpyBduQOBJoEmZiuMXK+Jw0fGbhyCFRIY17nLv9B+F\n",
       "/nRdo6EiMW6eitaJdO6mK06/ONw7P9I8hydEthSR+ZxSWMXGn2gEcIFsfB/43xyz1RWZS1Thd9Bh\n",
       "f1J1cXlttNXeepebuJle0QFrY7pzEELEeIauMEh0IHTUn53+BFxkzSCNRKZO/ZuZiLXzrwcuo2bB\n",
       "vA3ZnUnao8Pr6DifnsBqWTlYYpddLaXkj5fwWoDDy/eagC4kihEJqWUWM8NU0GI7I1vNOi+ELs2N\n",
       "2Jzsxnk7RFiZlIvZufPfxKzuetdgOEPhIwBugBvRAAACbEGaIWxD//6plgApQmXoBR9aMpj+8pC/\n",
       "4l7AdKyA4TmLyw0HO9vSnF1x8n2m6OYVnJHo+bi/iP0E78jnqwsUrRjVubA8X9qsE9h2a4RAtFoN\n",
       "3YZWkXLIWr9rjE1K44eyi9YICF452S9iwSigTgzOLT7eCJcjCz/3NCiu2xDIv74t4nUsxgU8PGBR\n",
       "579hSNdUXPYY02PjHv78mst5elNB03OTlpgr9kuna20itNgYqBymQUhHlODuCz/zlc83a9XjFcxU\n",
       "jk3kXZdHf6s65zaQqBlVCcPoq0YMzn/F2Q5iq8CSYgYbIzAQPdBUHiTfgLuoQP78g3eu+F7r65yj\n",
       "rTBDde+Cb5ZbCIHJ+KK7FQoSNjMi8JmeQMZ7RiJUu9W2j1KvtFRiCxwku7BI+XLQeLeiUkzNUhgX\n",
       "FAzFVyqIkD7jrxkxlEeueLm/yAvGuSlM0+AI7ZD7kMSavHU1hpTQKn9qtS545+ZIco6XCcz75h3f\n",
       "vzVpGIh3TxcJa1L0NyCkhMzKQEMe/A45zyygFCaYXKMc2b5lsvAviNlEDEr89op+dbiD2E2MRqN5\n",
       "WbF8frONdjynwNeuVmepLoEH7zqok2nLy3kcGjZHvuVTIdOuwOzmxGdIcay/ivm3HyNYYdNJzQT0\n",
       "b18MDC7q+lbJXKu6cF2N2taK+63/R8hYIxetEH7BCNEqw+QrTI7ztK/FbNof5vK6PMbKQQJcPye0\n",
       "GjGeIlNVf52hnqVZMDqrDp4TMTiAAAADAAJBkYAAANnblx0irM9zL+3Mu4e4ObnoSox2zIuZbFdy\n",
       "b4BRlgE2s0+cy1IOa3fpRf592kGVFixsQOsoAAADEkGaQjwhkymEP//+qZYAABCeV/4RysQALpQ8\n",
       "plKe75RJE2OHtlbWYFbYTROemXR+8DvxBxw5nNOxy+hTMxk7xAtUvCbOrkQ09JSDhVFjpltHvEp0\n",
       "BD78+ulDsKNh8VrmE3e58NlxS0DHL6qeR9KWVd5D4OJWD+YEG6Qdnoz+1jfT4xHtfH8A9aKDIRie\n",
       "U/WCS8E2dGsJZCMFIUNAFpuk1PmBebi+eGX64k7PJUGgt8EML+TsxmGEItyPkwhN7imF5KQdn58H\n",
       "IBaXyZGGMG1qnOfQJJ/x5yrmPncWdfl92kBN2tieeNpIZCHdJl8nuoNdrOnZ3AtBcfKcPwazhlWY\n",
       "U5N1A1aSvEUjh2bDJnwBBGAc6hyvhdPAAQ0PUo9+wax9OJToAgD0Fsc1DQ58Ed0SGD0iS7FWyXIr\n",
       "U+t9lz8Qdxmkq92HK8PKnBbE5Xyi4b5K0eOKq3qZqveHzN7psge5UgerPayab31fwqhF3dYqEErN\n",
       "HX2gYVUDE4+CMAyG6q7S7gNQB95rGyb7oNsQ61Kl/UBnwihqL5oQ+NSsc1TdE7JMb/nKvPYag3RR\n",
       "6SfAlhi2ClQi3niW7MGYtoX6lWr7x2XQAP8R9nHabZfZzo06A0UCE0+1s+bj/4qp5Gx/qYp6era+\n",
       "x1Ft/phXgvA5nzymvPJOGikYJrsCz6VS0AWTP00jnM6T2XAvUoz+vN2hdfTdDy6zLd+xgCQ8sXvK\n",
       "Y0KAEiWwqs/cQHkdgApjwMZyyB9vqraRZgbGTAfqcbSKMR5fOJVOP9IPLDR7XUp5ZWl/dgIaQdWs\n",
       "CT4YdKkqkaYrJwhYMMomqvX2RZBbRCzhaSAsDXWb7NRK9gXSCQp02Uwuc/A1qIrL8mO2Ff7wh1Ev\n",
       "IE0DJgpt6ySH6Le+OlqYxmcTYKEKkbjh2+mDJhxxO+OU/VHnirgYinjexfekiqEXof2Prxh5/C0V\n",
       "Q+7A4eyPqi8a8MDQIfrcnC+/Jz+Y65hAUT3llj2sS89RYa3tnJRHTuMCo0KLL2nWuQNrcs3ZWn8P\n",
       "LtcVKSGyA8O8VKodBNtF0Ey7gQAABI5BmmNJ4Q8mUwIf//6plgAAULhb8PLooAJ2+GYCYYEa35iu\n",
       "/AemO/1Lt9d3Rf/iTtsop/hFX3JWxKPzKvy2kG45X/k8tDlVnxwIhu01pyYp4AAuxsInXMzf79n7\n",
       "YchBHIXGcFQbFWSxXRTBUGdczUy4n5Gn5q5iZFF+yW7op+7dmX7saAQfFPub5AIu38bBU26LmQmP\n",
       "TKpCS4p/48BuZgUCGStJghjS0DU//olBjfkQUjVLLl8sS1ug/9Dqz0TITySsdE8lKtfqfE8oi1re\n",
       "25bDZGgnp83SHMvDIKsPwOGNzPiLuaNqbXwUw0tqllR95f92G5F4005d8E7uGGvvH/AsUnheeqqi\n",
       "ZeyTbHzoiMDxR04ZF5+EdAJvR7uNETWP0GYt3WzUqwEz0Z2W1cQcPBAuFRsllxn0BMLESSbIofuU\n",
       "Fi84bmG4tXLyErCTSXM9dW5iFIZZ5b/+7tLJ+NG+6Chl0GfhToNpBwTfiFlAPbzyMEpisSS4G6fj\n",
       "FMqglA0EJ+8Fq4jfMig0UtMVTBIKcd4VDNZiz1BdnL0mnY/lGP4tKAgkSdH9ltisYCl4cJCkHNxv\n",
       "sqVGoyFm9ttNJSkCH4cwDy1Z0leijXtIDnHxhGgSkKWipkgNWgGjtYPPHJfyubJ59l/sFhSSMekC\n",
       "6Lpf3SzUXundNzc0amOGxdhHzj/R+fb7WHt/WpSbAs3ZfXeu2jYi3TEym8HXfv37+ycBCfufoYui\n",
       "yn9Z/x/NQSrjEI6XnrIn4USDRqau2XLJzwLwxLABokv+x1ZSYntnKpqNPzzaRWTEwZI8i2fpJXS0\n",
       "J0sZzIyXotHqDYh4O771IQR9Xbvss+q/MNuj1c3cKdxEdpdgOSMW1JozwNHWy9JqKW/jew31vydB\n",
       "TCUPdfyfgiH08+t1VVuNxpNhHYneNSh47URTpUUdC7VYiMKvDmqtX00EFaVcaslMNPZqllFzjztL\n",
       "TE4tAiDM3i8X09VqOHWecHJLXrGJGRpYoqVzujSaSrGjcdsc7juGjOqvBz/AWeGISGV3+iRyTE+B\n",
       "RdCLnkH2WFwHPZyVSruyQRlGFlETgoyPY6/IqyHwFiWCQF+0G0+jsgXbTShx1y43h1lYLJqpRUJg\n",
       "CQx1Zao7oBMxpx+vBY3a0/SK2a0lD9AS9E7QRva0ai0dChnho1x0JhnsZVs+Q8Nn0cdPQcWPAVse\n",
       "VLKCu/RmTxlCAizr5CmXe4ObQ6kyepV2KqFLQuXHrib9EuZSC0jD1ANELJgEWl0zvisMR2RCk4X8\n",
       "GibRgTvG1UNKjGuO6+SOJqKrTo/FzmCGWUcPFso0Sa0S7X8q2vvkHnPQCaPvUKrQMX9S2lL/SyHe\n",
       "WEcHYG2bhkzx5OgDZb41CzttJXaFU8xxWkdHscPbflslw7u0AJv+4KjydNBXd6fLanzp/k2PpXjm\n",
       "79mA8sQNk9VoikLwA8sJz2n7fdI3bjKkUX4dNamKxW9TkxamywKr8SW9zdFMrELpX11gceFI03/a\n",
       "d7sDrOfQoGo6U+2dK14Q9xxCSq5YACytR5h/xgAZVMmI6X4shF4dyQNvtjwa1YALuAAAAwdBmoRJ\n",
       "4Q8mUwIf//6plgAAxUzbQAcb4kfwPaO2YVPd/5gf7//m7B/mVPLu6rTtzTP7nDDE0XKOFN0Imlln\n",
       "Q3oBXH+lnmuHvUY7recr4jOKtQy9A3w8CLObwUXNdgOHlV26yTLfGGvVY9pKtn8I9GK3vVeoaxfz\n",
       "gM4JoyR48OrFmhQvTHFSq/PNGZpSws/cnWCdPVqUhM+z5weJzV2zJKBUSUodLqX0DB4+hDMEjiKr\n",
       "ecyOdgiWqy+rbcgtJQA4Z+kcHsFWDnuaYul73syXER6NPkhNCACXwfM102mJCOinGK5+nFIJ39rY\n",
       "uUXg18rgJHrdljTENAtxj/udGvpdqle0blAGwCq2R+qatL348bcLPpodmPzS/jChzNyp7XnM9LYs\n",
       "74VLX+ifbOwe79z0hbmuI+YAya702s878Ck83xi9afE/ouMVU9N8PL3f1GyxV37Hyc2d53j1DhR7\n",
       "NoywPok0qFbQfuVakl07ywybtUY5hG+Qu1ndS0PKFQoczw5QP62jCeZgh+fMyE6rbO3uLlQuAKJS\n",
       "Qw2n6WSNRRcygnoGqg0CVvYAMHgFfgnw5gF3zbLkqvg9A/vDpP3CGPCllNy3waaxXiwCk/tJ9O3b\n",
       "LD6odl+ME9/fsGbODpqGOxgV6agtbtnATzJS8nbPOPMeypv8kTsUyEM6OIf8ETogEL/WYVaW8Ikd\n",
       "jHPZzIUNPwUcBPpqXUkMcWygpp5nDHpF4ylvJy2WmP0UvDQT8h7Jx+a+IYo2f7GO8lJ7ojU0p+ia\n",
       "hcoMvO905UO8XLy8DYbKPLlinUXeXoW8/D8q5cX3Ua5CQAj9u/jL+1Y5Co2+R8mkjxagYo9cTQqg\n",
       "gqUxXJ/q0ndMUKmlO+aANXrXpRblohnjBOjMIQpGaSzZUngiu5Ypf0hPE7KSfTHwKsdZb9IRfvL+\n",
       "wQ+Saz8T/rBlMhDTuLj+CfpEDwZiQ8sOKOYDnTJtVYNxZ3olAfFBDUL8pICa5jQ4ykl6r/eszXUf\n",
       "bVNGPTBqxAf8SBO633bZQLVGJPok8vgAABFlhB3RAAACfEGapUnhDyZTAgh//qpVAABydpfwTuUA\n",
       "LD8t/9e8O/MGpVsU9rCIBExvwuIIQ6TA9Lprz+ugZ1hex2nl94dyKgLI1s/AJFKZHna8MWUooiGS\n",
       "T3Zx+HEtydJUwJpa8nHyIDfwPzdHD1MWV1O9659vuCHeBfe5nDokMj/epT4C172luZQShGgNEsAJ\n",
       "OS6Dnai47mkY902WP5Ihn8gRAe4vaCM6CDKkLTdVBf+JJjCZZ7fPrAE1ObBEtHVJNTzV4k+FRvO3\n",
       "Vt9Bz9sp0CW7AjpshvrNihEgMMGYBip5VVB3IE074m7mI5oG/tJvS63hLc32HqsNITpVAvnbZ5TR\n",
       "r1yZh2aI4tZQSQnWVqFU8IgbkDNyuTDgbTGWXZ/nqhBrKTy24S+yLYMXUb2tu52Pf6dNEOdh3QXM\n",
       "gXh1vrj9qOIWSo/f9i5SyBz8zXaa/T/qsB1GSaj3Idby/zoQ1rcUncMbayJvKYK4xjtZolbizwch\n",
       "TlJ8+8YWxE7K1qKCVXsXwo5+jw0N7zeSk5UIIQAler4QSBc8OfltxJw7h1+U5PpkWBjygprUljL5\n",
       "+zDYFfUWqvyvW1J5oQcjpUmk/92SvqikrTpm0Jv0rRd6jfyflBsjNHXbDIJf+t4ZUV0WVHH/pU/u\n",
       "bKvtIRBeQnnUr1iUVffre31d16SKcG4aP6v4wsdjlamDAaFx4V4wUetut8UT5qT8YFC6SKUjKXtK\n",
       "oWrjo5cihtc8p+hjWEfezlNnpanLgn0LoODu/EEimKpW3HtV9Yibdzd6Y3PNneCRH1T3AUMbsNEF\n",
       "1/NrMtpphyO1obHn6sYz8qtHKc1ypU1rUnqFqQCfF/OWwSUFDss5OzhCkwAAAkJBmsZJ4Q8mUwII\n",
       "f/6qVQAA+v9XPWFCkfX3qxQyl93ivfiWlrIDNO4YL4bnwAPxRQ9tbW59h42Jpasgn5RTX12r5Nyj\n",
       "R+rPrb3PRozW8UbeSO5LYnoa+nTL8fstzISRO+mhuyrNHtCv889Nh7+yj4kTz2n7bl5TX48HOYJw\n",
       "mqKNnpO87dwp30CDckngmMfGNYfYhG4F5ocox5V7i/WxkBT8xwLpxNseTfDxwUc7SfxIAi6tKW0v\n",
       "W8IBB9eqjIl6LFKwBB6JyOlONYffVugMHNf5VT9qNZ08dNyF2R/5tZq4a+V69zhRTv3FympRCj9x\n",
       "0mqiBHmueed7+uIzekd8l2wh7xXfe6womKwzLGv2eM+rqnpYQ/pwWuVVdBm0fDxEItSVPqyQ/mLY\n",
       "p/g0XhwWS4Lw3nQ/gDaQhIHwTi1Ry3UFXFIMvhnWpJhH7g2i1Zk1DAy17imKZettXxRhq8uUKLYk\n",
       "P1L+rSZnqUexkh6nhMVP6VyXZb00OV9GG5nQ+3cQnnfXBEmslwNe3+gRx9DNB5EvQnqadhliBQSv\n",
       "OeKKxjEYnQfsC8FVYIY+xx9KOUMeQsbmaT0uuedBurmiMlAPjWV037uRRSM619PFtHtre9LWyUD6\n",
       "ojsNH5wiD8bmJQTp2TRXViFC96NEr4zgxbdw5sIAbDLqHXzcNUhTxArDRSL+GZF3KQ6fXpK2siBY\n",
       "cKLOzLrZiBJ7LkS/4Ju9yXwtATmlsSqQA+RrbO4SbA9NA+jf/VhxS2ujibxWeiFweNHOTmoYMQAA\n",
       "AhFBmudJ4Q8mUwII//61KoABEf9MPc4F7ygFOPECfR0B/DvJWAEQfRc9O9YPDwO5I2CQXWtPFJ/G\n",
       "G3iBkNrKtQajTykp2c9DdFBmtHNkzsJaGajc/4AOcTGvmnnY0jTFfHBGDdobZlmedZnEuwGPuBMR\n",
       "B+MVlflQboMjtVCWWUk6ZB5toC0VnKrpinMy8lMN0hkCl0050V3pDUaCFHIBl6beguVltiurgCaB\n",
       "GWM57yCY7GfZQqxn/1OKREZG4GZ0837iqWac1bWzbsDwvdzCMJxuf2fLCF3NrxdczOuWeNXVQpvF\n",
       "WCZaeyUWyaTHJnp64KiqSgxKGQGZPge9tcoju7ebI796YdlpqNNBL469u3le0dnTvXZH1KfkAbk+\n",
       "fOf5fIPyVLuo1B7Ofw9d3FNebGQKtaZNaWgeLtELg3MHYLCsxr9ADddymtrcBWBGnrqhdasiZRuK\n",
       "+Wt6AIOOzTI80GFO5z4s3qh0j8AhrOI7Th4h7+gac0URlVedkjyt0544cvgD9fhJzBEyryHdsC9f\n",
       "bP2diRhEQ9FS8gDDcG6IAVkoPPI4vcxtga+7x5onTFdhpxcNOB+JxI6skdH4vK6ii0KX0Yo9P1Fa\n",
       "LoC+Hg3cyQH1s/V529Q82OId1sE3ZPfDXFCv0+O3+3f4sP+K20TlDPDLI3jPkmefFLuMjXOPSnkX\n",
       "e4uB1BfSwNnEROF4Ar1QhDChAAAFkUGbC0nhDyZTAgj//rUqgAKCT9IAEP22HQe86qXZxkoMkNvx\n",
       "UcDTKla+ePjgB/etOpmWluxVqiU5KdqokHe8jVqL+btBf2Wmq9d6WN//F8PrzyuwfK319nnfAwhR\n",
       "lxY4Dflb8Psrw1o7z9G5HarECiUTJFA2DhU4oQdDVSRLFgmu09kwp3rc46XCs/bsO5P/I01rlyRn\n",
       "NZvkofpYmSp5UnT527l+JrMPSC7Ph1yb+ASwwBoHwl9Gr5AvMx+YKPAd9JKBE2wJnHjP7olfB8VO\n",
       "Cj8NsGpfa4HwfajCJHE4XvF7wOkkaAg4v6CSn6KuYM/+gu5EJvXDcKok7CvylUjPrLQDO9j13ptN\n",
       "9Z5Nu5G51VHc+8mZI3qmKiCrJwMexobz5wQ+MrzSXAq2dfDg7Hk+ovieNRTKTt0Hum2mG0jM+Si6\n",
       "8Q6W1Vh2PtiwM4Ktq5s6SND1jfPPb4c7SBYBhe/0PkyzkQ+wnoEZCJNLp71908MwqnqKVAyVBA0C\n",
       "RpFmS5ZY+BNCVsPqjXJFLSNEpYNctV/qvN/msA/zWU2sdhKtmlAxOy5aKSLRI4WT0ent36Ealq7E\n",
       "AHFv5BxwXpdRz+yxJN8YlTgARR5eZ5jY5a8WcZ4EaToo+EmWi71p3G5AO2aoOH5RBANiUW62IjNO\n",
       "nUHnNsfQ4N1SeNmPPE9m8a46T3FmCu9Nm9LqDy31t+ZngzjmWgjV6C/hCMTM2YRDjbDi4/fK02G/\n",
       "GWofs+99btqn4p9t58HXlxU4Y3y2bDeOn0Mr4kv9JoNYLF+LgiRyFbTH07UJSME9yfLu57u0jCXq\n",
       "/hESkzA/7tlBBZGs6klReiUR1ylc3KR7Ou+QTO4UYsGggm5Q/OFKSLe7tHMCwKgmjI7T4lBoxulh\n",
       "IOirWr51W+67sRZ5f6Tw5rFcVkFNOeah0/6NSAWPjzuZulS232qwUE9PLPePey9VYFgis2ym3xsu\n",
       "/22VhY5xqg0JbQ0X5BffCs/em6Bw5qGneb7Ol7iaLNOm94pSWUIl31/hYMawh0EcxH6jOjM8a1Qt\n",
       "GF8QWHOqlEg4RIVpfLy5M6JQJu1yR+yQqZcOhJ3xEZE/uaTaYEp2gvQXhsaOANkCrsV2+52vedKJ\n",
       "8pJk6mw0pNkZI94pcGPjIUcGX5OkzEXpTb/o5UpyRACxE77Wj83AvO0H+AAo7cT+/y9sih9xThdx\n",
       "tbZ3zWOlMUrMyxJw5Wg6ndEo869fAzbUts07tSAG2/eAGGrNVcdpIPFOnvAK7YGnR3s2xxy5VggP\n",
       "vqgSrdwWlrOnTuB8slFJh5Mudw+YdqsJoanrAjyucoBl1hYEmFxOECS946kgBh8oLQ+f3E9Gdnn8\n",
       "fZRaok8YmVP5Zy6bwNrLABaIsB/8jkppfCrGAWggbO8HJDYCupEKFxJiVizjof4hACKNFRrPC9eq\n",
       "wtVZy0v1Ivi4PXrWIOMMYtAFTg13ViNhiDQPxyPqqPF0Ax67ntO4pKha+hO9MS2StbQLsY90SM8u\n",
       "WKL/iGeC72SBsGimj+Dp/TrnLUOVoIQ5CI5AHGkQNOaMT/uNDhgnpHkPaSm8CTKk+8Mj3vcPFBZe\n",
       "K8XY8wfhsSp/r5vwJbsq2K9/QtSpCgAZvbNGp9+daPJIkdCOeTWFi42FMmW/hBRSa2T53bSvhTGs\n",
       "yELHfHfh3eYMym1QWnWOQ9FCaJtOO7HfU103yI6lOIPSXSyaDF3F6e9JEHf28IFi1MPWV2nGcBzw\n",
       "Evw+ALBYvC8EjXQ+TSSoKm62u5XGswiN5+Khvk6b9/akgqrO5Mee4TvphEshzJxRmBkWWsoMVC+J\n",
       "KI1TwfyefH+0PwK/vj4Wc/k4FapdbhNhhHLg6k36/FUC2p3/BSL4BIVu85UtbqaM56+/sGlPQA0C\n",
       "oLvcU1qN/9YOtSBq0OFKTLA69fcUEAAAAV5BnylFETw7/wAQ2ADGgt0AvPVUC95Nn3TrUgIOEotJ\n",
       "ux3ibQqODFACVEq8R/Us8V75mvipVkmG9o6SbzA7qeAtFoIdUZTad8QJjWfuhn6Dy8npW5vLw1b1\n",
       "ZW6upFMaGH/li7/3UuqgAYHh+5a87bgSeXDyCOuezkc+2adVBGYeRLq+Atvm8zTvD0hAKk48qMXs\n",
       "W+YOLAIhW1QaC6Y+hHK4CBsHn1TX46FonaEmiQq7K8prTbHKfL/J2wUFFiyZNXR8rk/Ubb7GCmSM\n",
       "DuaTH8slEl7Bk7uUjLxpGRNmf2/miW2uqNS0CabKdUOaLwLiNOt/y5mv+s98e4f2R9b2zCy0Qngk\n",
       "XgrFOHbyFehf+/WMSvxHqjM6KQFagmfj6wmLzggk0t2IFfrcyBBMVxhY/2h87QGx6pG5XNZR08iI\n",
       "gMD9oD/n+dOQ3P/r3gUa8UiI/jCQ9SeX43xjDR3FEzVNwAAAALgBn0h0Q38ABnEI3eTlspnt7Wpb\n",
       "keLpUQeLw8u3EiBzSSXaiACdvdycRY96PucnnQxbKRhyIHXovDc8rVNRJaJ9n+8ycrxgPnOdFRz2\n",
       "L+gydLGdsrTVPG9aBZH50FobJE2MZXtKeiwt1X6giFdLQJfCPqOADmHrFQlFTkDG2IaP3PVfEdpL\n",
       "bkctq4pUjnQw0ukoPZmSUBtH+M/AFpHcZLmo8uq+vIPW6w6m1tvBnHbM6vyg0CmtWIiZAAABLAGf\n",
       "SmpDfwAN0W5Cq7V60qmIAPxLOdpemgcthtZBCPUkBibqzcGI06Mr2bKL8wy4i1kMua6vLZFvJsEe\n",
       "3mH30AEV3aXG1AC3km7b9DuLVnVP4QKj2cByRAR29U45s+De3G9lTfRDUcpIH302MC/a8NroPFb7\n",
       "zPUCOumtudMp1W293QuHEWmSH1g806dbs8farmCSCvLopq+J7gb33qxEBwus3Hj3beaDDlc97vFe\n",
       "J4TLj1jXCa+tebCG6+pCH302FyW/F2zj9YttM07MCSocfmfOf4r+CIEAaMIlsJFh11c1Va2BK3s4\n",
       "HdEIXFwxt9OksGyvFEiSvTT2PKZTegGpEqqhaHL9WN/TuWZRrsr6pifrqgJfX3aqkw3xftyvdAbJ\n",
       "YFOsh8xopi/AniTETAAABC9Bm09JqEFomUwIIf/+qlUABU23AeADjfPgauaIGV8KRBN9KF/qtHp5\n",
       "uMNJ9Ed1EA/U51ZH3zQiDjQU6x2Hxm2p/DnE5xj6hq50Hpb7hbC0RbPtpEE4R+XZfd88teYjz6Hk\n",
       "JjGO4WWuGT3slTjqwnDz2ZRPr2vYEQFeGedMwHTaTPemsTtehogXYEx0+SK/eckSg/7gfaYGa5s+\n",
       "ZWLePy1R4suG/xpivTuGVjL7pmKRPIWS/rXakQnQXGRI6cKi+HsLlpmsFimYHorAwQdo5+RLQqBL\n",
       "HiG712PFq0+mKCnGDN1PR0smImAYm79subR/YoNay8YlvjaIbLS5//hAsgm9OuU2z82MGTq6URh7\n",
       "hdynQPXmOSzDmxP3r3cUAPuG0QXHS4qvfzAWNGFOXvh6HQ9PPFvuOWEI1qz5nvzvJwI2IZAQdXOw\n",
       "UGJO11UEoVcjVDmWVTL57RFz/G2MT6pR8H75X7sRf4AK3LBsxxXWF1G+jnxJnJB6wXfgg9uzjtgG\n",
       "CouaNY2AAIBRPaPLBX2YDhVqHb41daJi+iygJgv/2H2T2oaSjmbxFdob5shNzA04igEEjxjp5Dd0\n",
       "mvBlAUfezEgqWn/Ja0tNpcuWXx8vfW91Zu8EnyRZivEVSrx0jFtMejF16H7/yOturfvvYgxzUOJK\n",
       "hVX1uNUV/NbyqctTKB0nPMLIEPN+nZekg28l6LqCS75k4hnkL2HiTwzFwOCrwl0Q+2d48cL/G4cE\n",
       "TxZYwJpevgmL9Dlw8KEBGECMyvpzbbvBJBe6/Cr8Elm9sei7FP5qmlFA9zlEnJSzcLXNNH4NuAUG\n",
       "LEtnHFZeHgavfvYsqtBO+Qz0qybfqL8xCyoV1cm22XOKcm6QUFnuCyA7n5DHqFpiv0HxCDwCgCfm\n",
       "cs6izut+17jdx/bvdkA8g4xMUc/Dm98ffZ6zcKdnwHGCX7pcZP9DtksMjbHtPwNlIdtwGubO3G5T\n",
       "8hwFN/SNx00jpJEUCCjWGdUmuiV0Zr4/XdB4+bzrJIwZQsx3dlyxBgRbY31UaNYdvgwVDId3lL9D\n",
       "iDaa2Q+xUz+WViBdBOe8lTxS/SJc3eUl46HqevHKvwMA3ZAu9WMHTQ2IlhKh/SOTpKg+dMhbO5/l\n",
       "TZElqIc1h5pbeyBrJ1YES14XM/7b+ChsC3gJEjBk6ma/ZcK/LFjNp+LUeIBRBZlz77bPjKxZa3D6\n",
       "kJAh9+4aUuYYGk+1clujcNg6pD7ahuBXEYDBfQ+GMY9KVoVzUaLkw3fuWQqa+rnu1/xao9nQqGoK\n",
       "gO9Z8YEVXMAo0b1hjykUt+T+15VSPZCTlJm4WRU+SljFbgVnmk39qck5c6O/9XVaST34E228lsMB\n",
       "/Si78eTdrzAXIBy59eN9ORxeOB41JLNkZYRPlfvRoanM6qnAAT96cvh3M3306jJgCTXoUtt6PLRH\n",
       "1zDw+YAAAAI8QZ9tRREsO/8AEQpUaMrnspdPahJABEHvPTSODkEIfpniKzQn2vdUHrOxpzCYw02G\n",
       "jGb+FN1JKzeZro7Up/CzsAG3BZrdPp1wqK05kbf0x0rvdXJxRzFboZQdMP4MKLXzFPwpvzNMfn/j\n",
       "GLd8VOY0bqcPF6uwUQWjKJx2I1nk90+5Oxq3BuWoDhgQjMIGfr0xl8nWzlRW1mgrQh4MUA/kxeQa\n",
       "IBddIPiPo472D7mFfvhSC3rsiu94aMSSKXEy3f1GRhPxoBdfLR8p3uiZIqlt2RbsRTPdrZp/rpxh\n",
       "0h4rEig968T0K/lQfG3P/W54DKByfoGIeGLblZ6q9nq8TSjgQTVKI11AkbI8voupEJMHJay2NP/f\n",
       "dJ/j75cI1hUWg/yOhe/GH9wwNn9n4Rvsgduwlf4iWMhWwwJWWRB3O57AQGrYOhH/EAUX76BzVY/w\n",
       "wcK3AvH99l7kRyl/oj9/+zQkXlHn8uwuU7WtujGAE0F3M9rhDpIjrpO1Ye0cv2aXei1RPJLweZ3V\n",
       "w+XLjIvIdY9uva5VciFhiIQ9ovm7nx87j1EL5Tip/5jK0mfYWjS408BT23SrIT4aXVzCpc9eY69P\n",
       "HD1zFLHsB5IxNRwCePBxVERdj7QBp4uyOny9OfqW/XBjqTqrVhHb0ZI7YRgVNcWP2cXSMIU4U5Vl\n",
       "ZV0llExS5JZ1a2DZWW+bsx1l2HC53UKU70lm5N3691m5OOpBfdrya0o5XzOxlVGYOBesvkmuzxcV\n",
       "PTZahETB+iagKmEAAAHjAZ+MdEN/AA4qAuQAhT3mcpbdLBYu8bejNLp7qzMwUGt16wxvVw+Ti7rm\n",
       "a8EMA5y8QiX7PijZRVGy9FCb9RL4KwdTimyV+5yqjpnEBJ+IMKR0G729yln6vL14qvXqMFpl/2Lc\n",
       "iukwb2KERNsjOd+og5U0E4pssDkzmNH4zH/4ydSlCDGgwgZgOLCon4C8sZ17IvoNKRPZKd8uFqks\n",
       "rAf2CN3JKPNK3nxJ7NnhCbqrpOxCiXrEvLihGcq1JoKJk0sVP4LVj9BpzT1sr440JuQt6w/EDo47\n",
       "rJPlKxVVcfN/S5NzO6GAPmVgtx9F3OH3iof1pLnO4xE37NDCKaYi7OqdIFLQsUnE3jQ0ktqeEDmZ\n",
       "Bl2UcMnJe6HbMuLC+A955q2KlREsoW/72eE5/kYGToPKmlxzGi9Ep79V/Nn8ja67nTnPoyP+jiHi\n",
       "M8YMYZkAVdfXPscUlYo1ISYr65NIUI74R+YoGJnvlI4CXvBURef0uZToYNE3TppciNWSeOzCFjkb\n",
       "jnrrBeBPjuV3J+HDVuFjK5zIPyuMtriv3V8ec2GF+7o3pztZH2S9Uk+GWmNH+tGQyFDCJuDx+fop\n",
       "K+iHEBJlD3U/Rny7cNqokzjkl63ufQrzdFZhgus88Bp2nR1X4MAR2CH/AAABKwGfjmpDfwAOgpJo\n",
       "e8zNxfSQAISHboLaJAmL0JhEqYiW66NPJ7m8qP7owiWu17oAuisDoJ9PG5OV6wqjj8pQcCAYHx49\n",
       "sBWciNbPA/khsMNfmPys3peHaDptTpjMjavqNena+gjUd0i2614V/k6W9OtP/d88eWXB1Kw+Bzxc\n",
       "bifn+CPNFxhPEVC4zCYXblCf+NwpKAinN7pO66MWjjSBUqXQcaABxvs7TbYrJ1vYxJc+g8EZ9ndU\n",
       "40ccvu4O7miTtO9gkvj1S+qlgGf2MCDewb2P+nu4vZzSLRJ6TYIj0Z6wBKLHU6PrHeKdXxHPC79a\n",
       "///UzmkLqMEsSWMQDftKeAUfo+EAwGjz6qayJ+knGCTRY7/DDW9bYqZ2DKhCtN5F9WYDl9TUP5rZ\n",
       "0F7BAAADDUGbkEmoQWyZTAgj//61KoACp4jyOpAAt1JYuHBMI3PAnUa5YyKar2TTAvQlElDPArQ3\n",
       "LR7UiBcpiZnZ5rDYF/HuxxAlsXkWEYx/sqYW8y7awmkei1XKe0Tnh6PIQf+Nkz+r7hImzwZHMedX\n",
       "vYergXCLD3aGrmlLxv8MTSQ91eH2lMJrObYFNzdcypjuuUacX96XI92LlCCLVcWrFzjpU052sdNM\n",
       "xHjtHJvbsWrOEHfok8aF9b8RBGyhL1PMPwfGkQlD/8ehfSC6MvDx7qwCX4sSqbiilfGsbIZWiH7E\n",
       "s2GyHuu/wI/egXoHyZRytI+kH8r7M3PKWy/TIKOe3cHtMD9uOdiub5Hj6y/MYTYRR7OpC0qR15Eo\n",
       "nj0V69HIramfCFiQTCQ3A597z5ccEPU0oF5gHaQ1a5KDLGn42iF0v3t+LTVo+JUIS436Zzn6Sss3\n",
       "ek1qXb0UEDQgja3v+YwXnzS2YkPljKbR8Qinj6Z38xrgGdrVPb9gdUP4/l/H0XsEz09w/rcOI+cY\n",
       "9v8sVYAYRSUDanLJNNXAF1ZoQ/ALBW7CNTcFV7fnKl4YUvpAucJ780sV8pGbVXf9bR392e5KIvIh\n",
       "qJciFU3n2gboj4eH9laz3Xm/BHYfxOHpKBtFo+Z/NnfTpzZetEh6a6qByXg9tzmXvy/UNLbTDtOj\n",
       "FWIJmY3z4dW5HQr16QXoasAQdt5UNatFIjkealp/nr1Sd+XHBUQiLw0vjdByxQJlOI38NsTHUuRq\n",
       "YdEuJCKKjt1cCynW2tBEho+oGl1JJeECD5uKmfuqmImwIwDax4flePWLqPRyuHWQ3PuWz5s4GNtv\n",
       "BneUGOHZ3Wd/TNXcoV00gEx/NtVCgfU9pJa88jTFsyMH0rtuDs4JzXlxemdBAD3kfr9+2/2I1RZa\n",
       "siZEYwbMQNrBp3jhw/6LeNHbYoyB5lHYjtg5XyROYVl4YdxXvra7Bd7zlJ4GyKVEoAyNdrOitJOO\n",
       "upBMsyLBvwwgdNdvU1mqk2mNrVa/+udiZTqg3Ji4IMmsBBIovj8fudz1WCNwu+AAAAQrQZu0SeEK\n",
       "UmUwIIf//qpVAAreCxOTodABYLV+iHde0PWVdVEnWbK69PGSNUBcxgPAw5S1Dssvn6hZa7YaDgan\n",
       "TXbIUH+mDc1eG1DaAVxhYLkrd6ejyEq76HeAVR7iDyuiLf19qiju6RMI28NYAwzx/HwYZruC77n6\n",
       "h5nzYB3v/twHWj7tSAqrMEj2M6j/gH3c3fIKhGu4hoVnpl69/NbE3732KPZfYoZh8Ek/jj9oC0zy\n",
       "VeF4QB2GemcuEluEb2yj+XOEpNdJ7KihJCOLlXh7AQ7Jhf6svCOWC0PrzU2ZhINoMz2GtxgEYxFB\n",
       "ZzWGGjd7Xvv1Uaak14VC+bK+BX+g4ceSqi8C+JxwmLzcv2XlWqjVNrhN9CxvyYnn6EY+3il38eqs\n",
       "ieM6lZZSw5malwmqc81m8MGvTXLInxu5OGzVMy5xRrel4UaEAMAjtcUNUAOZWcUzLHe1vR5OM//g\n",
       "9rt37yU2ZSJDSb9L0uMZSVJvdERP1hjm6FQJEbcVu2BaVXD0u5RkVn6hJpu7Ne9bdA2+CY20fBok\n",
       "9HSCYHJ+u1SL5IxZvAVOig2Q/qiRgOsDdgWtF8nFGdt+PzOPCJLzg78d9ApFP/Dln/Wu8oU3zG6z\n",
       "9kiOsm/gBZ6KoKKyqmRZ6U/hPbN3/1rYIxu16TwZ5AQ7G+RdNEwDPwBSeTeimvDsCI4FjKcKeUqa\n",
       "TF9qOLAJJpHajULlC9YKaK/TTcw44XuyK3GURyRzAIPYSzECKxfjAt0vOvcWLviG4PBcfstYKLew\n",
       "kaFu+fmv7SFiY/GPP1EqDstZpuJoFeZIp/ZSiTKeM4IuWpneJ4lA5y2wdvhMYnkJynDugVzGgyrb\n",
       "mKRrOc3eKM4ODl6YGVH9BZ5Se6GRsR/guejY1pDSv4kFR8ejtoTYUzOQaV4zDv5rgShVrU31Ibe8\n",
       "hDZ/aw2H09H7sBUt7a6Xq+GaD0uB8xMI3JqDqPO+05tGzecfW1HJIgazAtUQS8rR5B4vgUQDx4NR\n",
       "oG6+Dnv7JD69HHHyTPNezDjfonbifTmCEqC8BnFguOrt0r4aC7BYWFPP+bKZTt1WycVRDqReD/fo\n",
       "KOMAtStsTBkNNmOF2N/gs6uB29F6BSgNM9EiTwbCzRpeSVfEU4EXn8fNL0YOqt8SMCQjUOTwOAni\n",
       "R8s/YCjVqAxtp/Tm559gp+WCMXkw9ugWG8Wh/YUdYoJIzUToabk4+HWp/6Z3dTiLXaEDyvW0RjJw\n",
       "FRyd8UZdg7hiUvtOTRVG/wkFP4RpPSOBVCzfT7Zc+RcBo5gM9EY1Mpx2TQg7GIzyn3bwnRA/LupL\n",
       "rr94wT84cvxxN6VLeqICbPzl+aad5qXcfHoZOuONxwy1Lgvwu3JOzU8po58rsPiJs//1sBb3uBhw\n",
       "mJXyyyRXaVRyGseHPmMlEasEGf1q3JC/f6NZvuLMY7AHFBAAAAGFQZ/SRTRMO/8AFSDrLo7Cf/U/\n",
       "08AJZ7oXcyGFbLW2onUlmGrDkshJYdtSjfS93jUWv2jPYV0dx5HlRBOzlwgFiyHV61NI+Hp8dW7p\n",
       "vF+W0DSdoxmDcW+V8cFT+fu9gR4+ZbUFTTN3D+GnUvPu8s0Oxv4BIUXRhhm4zAsRox4wo7j3Y9PO\n",
       "cZA4VIdCeGJ544mnCr1cx61YjaLMzXqOhZvvjKeBZ70tjQuDcwXNCFgNIop8t1m/L1Zg5gkr1Nvh\n",
       "8jel80RgpPr5aN2/K3rn2tI3tnPB2/dPeHEsFug4+zot60jnfg4PRFHoE+IJzXfcR9B3ZuohYW/n\n",
       "ftLN5/wREaGslWZzR6krIqyJxDlT5qjhbLqLr16oKXLrkMJEvWnIHfMyB2uh1cSXukurLYOMuEWF\n",
       "heaReXKtUZx8A+Pchgr59t6nMN2qJ59WYK1y/Qa78GDOJS/NrvmsANHmOFtfl9kwywHE0b8SGz1X\n",
       "Z7nvCqVGPBbIynIo816R9dQiZcrkqZQaLCEQb0EAAAETAZ/xdEN/AB2z5WYuQAJ201yGrMgx/E1C\n",
       "5zX0zKPz0hkHrOfnd0fe/zxIIH4mD5XQ+A1zLGfV0z0tUO+bM0gjOZP6rh/sjLESBzrcL+RZ5TaA\n",
       "g2akU7iPUnlNmlgJxts5NTM2NqLVaOJCKha7ugQkgJAlQ6inm7l4tbk8A+DRL70La3qSzBzrzt1u\n",
       "+UYeaRa2xGfcllWaLKSs9ZKYq6+QgVEVKNrQ8o6Bxik44P6qT6okx7koxtLYocgGoTayNVK58mMT\n",
       "3v0JbWTFrvqiCuFtec9KIND+ggCgJ3IJcr4K+wfP3StcDyPco/Z1Ta5UlKtYY/E2G999ikIlG57x\n",
       "FRe91m19sri3fqRPqsYtf5pZPEIAkYAAAADKAZ/zakN/AB2k4fdB37qEtAB/Lk32IXfUiSZoqXdp\n",
       "BYhvplV07dCFhUigFCzdBFV/Tj4hztLRfvwkZyTLvzl7tlG4pQQvdHW9S4KVwUsNbMZ3POtCZpNr\n",
       "hWItgEX7XfC/VInuW1Gab4yXQKCZl67FysynB9WSFM80pBpPNhTYLN/Z7kbiwpgrsvbnxtspndVl\n",
       "ZIYF3/fV0r+DO+na7gOBF0FLOFMCLmRqeVSkmXIFRWcLp/T8TXWpAOK7QoQad88XGpFnxr4QC2AK\n",
       "SAAAAcNBm/VJqEFomUwIIf/+qlUACuKhvsmAK1aBgtrxC9EMm1Cd8XbOKGldOx2azaJLW2OAhOgq\n",
       "8rFvBzL49yzNpJu16hR2TS5T8I8oDlHt4GKIR1WVzOPbUX5YSFSV9mqkVmMSjJAMu7Foi8A4TW79\n",
       "0ITChPbDxGWTNE2JqErD/0R7VyIST10zYEV01UWQHOrgu6W2o4PQrD1X/bbEDaCoYgw6W2JUSCh/\n",
       "vW+aJRBkcLz0IDCVeU1olIQDqUsX6tZY9fdNXaOrYwp+zBaauMmL//f5ML6hQqCl8QhvLrsxG2lo\n",
       "tHxH4bzzPk1clxZK4RqoGC4RfdeJ4/xRTBET0ZRhFpra+izqxHFhi2WWb7RyfEFUx4y0M5o18UrQ\n",
       "WUr5EuLn+On5NufOzHC+X5gSTUM7BVf21Gh/qywzIJXvdPs7xMgIJ4xQKykygYmcvmqP8BaTDfO+\n",
       "a/WmO0jCcgvkfPJcdRZV5mSErDPWpK+6CMpnNAIdHlVL5f+6EE5GoOen42MtD1J42I1wFJpdI5DP\n",
       "VYXmswtTTk0+mZM7B7/j32BdKigblxa7LNajN/cSaD5yqGZyc20kov2+8P1KQS07aqk0qHkkvInh\n",
       "AAAB4kGaFknhClJlMCCP//61KoAFczCyBADi2IyXRnLCZ75h2D4ryDAceJS87gpRhdqMZ9ChsXhU\n",
       "hs/BrhzUXwfnbI/8X9yjirqZ4x3KL/DLRZg1EVyg1rmQesJmHfs6gz0Fx8W8Y36fHxPxYDiSpKST\n",
       "V7WQzITMKoaIYuP/Pz7BoyIREUEebq2EcCyg4CO3gvYnlvMt4zPPk21De6VYe/xe7g7i/lau6SLl\n",
       "Gw1S8uWV6xSYuvo1Ti57UNmRNqEzj/fSlVUK7TIS0q466wRQLsYZlzBfjzPWjQf5CH+4U9aVdPMA\n",
       "kiJk69mUqz+/ElxKKaXke8/SvYsae4EAc2XJASfY1zAizKhm7wO3/J/3D+ReCadcNpuaV1aukyPF\n",
       "AhYQMjzcDDrzfIxiOIiKeQDSNNqJlJbLiX7hYvyTiZ/0HW6B6Gd7q3qpi8OctX3LeqWraQOCnjMT\n",
       "v1htPxh4ED0Tx5t2ElZxSG5PzT8QEnoUjRK2uiETPsBKKSfpGj/i2ANGQczrsV42AFMk1VhKJfXk\n",
       "CRTXMk4BTG3WPdq4TflzeQvJZ9Vs27BaYZ7Wopd8B34dx/8hW8KwXCq4HUNJ+OungPJcXvL3XL7k\n",
       "njJw8QPwzMnzmn4HPXoUpcAOhUT3HQl1pX95D+i/AAACOkGaOknhDomUwII//rUqgAVzIpiVgBxv\n",
       "G0qWunSoHl+ujKnSRAVa2Yq51nTp4l9n0P6UnN37KXQqTEGL7v0+t7dxM1+E/5lFCbfxu6AsESNC\n",
       "Xa8qJHCdZT0c0tlWJxGL9yLvpAaHRQsnPQKdgaEjAkrahfoWDLCKGApCSFPj+5q+WBUDw/xwZDxh\n",
       "KKpFS9Bvofv1clhRvD3DqcGgnXDBhsEHNG5uXHhx9j98FWKSSsX2QTvD7vUFqUUZkC2cs/A4Nldu\n",
       "F8+xnrIpcnT9NTNGvYjkuvfTpuZ79uO/s+BDRFzwm8oz125ND0DxJJX5yDM+kPz4tKIYAYGWkT6x\n",
       "w9XwHm09ljPq5Q6IOCaXAmKRHm8+JVZILr8USMq5mtGg47GyAc7x9MX7OiXR99LW5Z4O6r9djFXr\n",
       "X/+rzmlXeQ68FmiBBSYo9sqCzSlFBvYsYFOaPbxoR/sMfORkNjmV6h8UetLofsrUKaX9sS9E8NTv\n",
       "Ez9bY+YkAcmLtBwnkdwyygOnhqr0Y86GR6m8hstDZoJzNZA7SKQrD/19PkZ82OHKqoEClUD9sfgO\n",
       "6Zo8oOksh8OzqipFkGtb/HsTupFUnnQdcrltRKA1wAX2F91eWX541HynXxhIleauHVzWzq44QQww\n",
       "Bp0VMivyUZiGvJ4oeV22Nc2tH3DLCg8VFu4gN46rA3gTnbHtsDpwYOfKyh2ycDTd2sX1STGBF7k6\n",
       "z9of5MfSA9n5ebaAeniExl1dpKG8rD1cYn3fXxi09QAIeQAAAJdBnlhFETw7/wARCbSe/m85xZF0\n",
       "QD8AH9FgDcj6H/1yZxgk+FQl1rQ1lca5TDGzCSDnb5XdOeXncyq/506o1TE0/VEpNKrjRpzoxbxx\n",
       "J/4Jdmvq543PipKllacVvSJ8tMkq66pB2SBdtNB/P0FKrQEMqZzmCn9e46erIovZYVzSaEp2Rvna\n",
       "/HMM2gI8WnqDbdDl59beAHTBAAAAYwGed3RDfwAPhqAojAkS0ALYmZOsN8s3M/NetVI5a63lyUpc\n",
       "PYfbEtBA65mbtsWJkjGFx+6QLzxlfETQz2lQazJevRSNectHeaU3JEBRT6WrMuanXtNVMCQVxzGV\n",
       "5NU6gACFgAAAADMBnnlqQ38AHaSVwHOepf8Lm+3y9amx9Akpi0lzE43MWY5XiY3np9faXC4JAJi8\n",
       "7ekASsEAAAG9QZp+SahBaJlMCCP//rUqgAVzMK23AC6UkplPYir48WGazm41mZNsRwsm+OJjRfTj\n",
       "gwLJGrvGPhlp/UEBbk8rRFRLDgnAsbh8enL2h0ankiVy6PJSzOJG7FYZdgA2TGeZQCNcYepyBvEN\n",
       "pCgPlR4FARTZpt2On5oqB7xms9PkwLYcZYAWql0OGRiJJBlWjQfhJgRD+GsvA6DnGVs6kLcWrYzk\n",
       "gfri2yi6YxrwR/hem5O2BWadvrwTByhMpUzw4ogIkYCfl1z45MTDgquvOv7dGGPQP21pSgJRYECF\n",
       "qKZqPCXbXPMJkwXnntbyeC4+HkUA/Zf5Q3dyLQlGWSBTovsSLgYuwLUrLG+QWFtp0AN7NYletJbV\n",
       "PCoTj6Qqw+W99OwZTHpk/LobNhR+i+7sMr9CS1OO5ox2yIv8EpoaGLtJ7hvo3mUgjXSfICsEuKD8\n",
       "kRmeB1QgJcfXuGdgAksWmlDeuLb41Dt/QFymAmRlyFZUr3cfq8FZewO35aAhnm3P4PZobdiYW5UE\n",
       "dZJnDYVflnAEdsfvkBVHme60xF6oM24d4RI3GQVmObAy9fZpi0RNnJwEcl/g2WmQqZmMcwACXgAA\n",
       "ADlBnpxFESw7/wARClRyIrXJgO887EzPnxBCcCKDR3RHj/wFYzBhcVcnOkXynjImuyhBwRP9QpPA\n",
       "FTEAAAAmAZ67dEN/AA+GoCiLxIVzOquRkovUxgDhhXy/arR1KChyvxyAJOEAAAAmAZ69akN/AA+J\n",
       "RmEPHKxYWkIx82R4L9PnKSUrMjbxYCfsOsrACkgAAAC8QZqiSahBbJlMCCH//qpVAAsnj4AAXVeV\n",
       "TE0a5LAPIA5VXgSbd6ZL6lsnz0Ms/fDEFGlZOK+kyRIfWyqyZ6jTLXr7nURaX/nVIKu7jsn8PBHJ\n",
       "jGhLbRxFRsPVUs9FqVeMVRjJgYEfr2Vq1qMRv4dkAjtF++PQUePmndgRKYA2glsQpE5t/4kt+9L2\n",
       "+ToYgD4zCFDEAYlClpQuUIZxP7gWhsb8ZG+4XGNn8DFDORKlJntoCL5Lg3fASLQAbUAAAAA0QZ7A\n",
       "RRUsO/8AFcMc5BUKmEZgoT2fgHnaX1atGmUPVn63O1IOoPFLX2nxswzgbTMdmgBTQQAAACcBnv90\n",
       "Q38AHl08tsugihZO+LcA//2eKBrNhLCT1c5gUoJU9zhYAbMAAAAkAZ7hakN/AA+JRCjFdDnB3wdy\n",
       "XQbm8EHJkQPy5Fk/XBc0AKmBAAAAG0Ga5kmoQWyZTAh3//6plgACUTSzjdacmqABjQAAADBBnwRF\n",
       "FSw7/wARClRyIrWySIAFTswDG4l7A3PIcqEoOsPkqmDUIwAU4LdOaloAekEAAAAjAZ8jdEN/AA+G\n",
       "nii2xyIUaJImdZYWUiwuCgNEeDtExc4AGpEAAAAiAZ8lakN/AA+JRCjFbFJV++1zqEWpcasRQGZ+\n",
       "aNXaT4AEbQAAABZBmydJqEFsmUwIb//+p4QAAAMAACbhAAAEz21vb3YAAABsbXZoZAAAAAAAAAAA\n",
       "AAAAAAAAA+gAAA+gAAEAAAEAAAAAAAAAAAAAAAABAAAAAAAAAAAAAAAAAAAAAQAAAAAAAAAAAAAA\n",
       "AAAAQAAAAAAAAAAAAAAAAAAAAAAAAAAAAAAAAAAAAAAAAAIAAAP5dHJhawAAAFx0a2hkAAAAAwAA\n",
       "AAAAAAAAAAAAAQAAAAAAAA+gAAAAAAAAAAAAAAAAAAAAAAABAAAAAAAAAAAAAAAAAAAAAQAAAAAA\n",
       "AAAAAAAAAAAAQAAAAAH0AAABkAAAAAAAJGVkdHMAAAAcZWxzdAAAAAAAAAABAAAPoAAACAAAAQAA\n",
       "AAADcW1kaWEAAAAgbWRoZAAAAAAAAAAAAAAAAAAAKAAAAKAAVcQAAAAAAC1oZGxyAAAAAAAAAAB2\n",
       "aWRlAAAAAAAAAAAAAAAAVmlkZW9IYW5kbGVyAAAAAxxtaW5mAAAAFHZtaGQAAAABAAAAAAAAAAAA\n",
       "AAAkZGluZgAAABxkcmVmAAAAAAAAAAEAAAAMdXJsIAAAAAEAAALcc3RibAAAALRzdHNkAAAAAAAA\n",
       "AAEAAACkYXZjMQAAAAAAAAABAAAAAAAAAAAAAAAAAAAAAAH0AZAASAAAAEgAAAAAAAAAAQAAAAAA\n",
       "AAAAAAAAAAAAAAAAAAAAAAAAAAAAAAAAAAAAABj//wAAADJhdmNDAWQAFv/hABlnZAAWrNlAgDPn\n",
       "4QAAAwABAAADABQPFi2WAQAGaOvjyyLAAAAAHHV1aWRraEDyXyRPxbo5pRvPAyPzAAAAAAAAABhz\n",
       "dHRzAAAAAAAAAAEAAAAoAAAEAAAAABRzdHNzAAAAAAAAAAEAAAABAAABEGN0dHMAAAAAAAAAIAAA\n",
       "AAgAAAgAAAAAAQAAFAAAAAABAAAIAAAAAAEAAAAAAAAAAQAABAAAAAABAAAUAAAAAAEAAAgAAAAA\n",
       "AQAAAAAAAAABAAAEAAAAAAEAAAgAAAAAAQAAFAAAAAABAAAIAAAAAAEAAAAAAAAAAQAABAAAAAAC\n",
       "AAAIAAAAAAEAABQAAAAAAQAACAAAAAABAAAAAAAAAAEAAAQAAAAAAQAAFAAAAAABAAAIAAAAAAEA\n",
       "AAAAAAAAAQAABAAAAAABAAAUAAAAAAEAAAgAAAAAAQAAAAAAAAABAAAEAAAAAAEAABQAAAAAAQAA\n",
       "CAAAAAABAAAAAAAAAAEAAAQAAAAAAQAACAAAAAAcc3RzYwAAAAAAAAABAAAAAQAAACgAAAABAAAA\n",
       "tHN0c3oAAAAAAAAAAAAAACgAABVSAAACcAAAAxYAAASSAAADCwAAAoAAAAJGAAACFQAABZUAAAFi\n",
       "AAAAvAAAATAAAAQzAAACQAAAAecAAAEvAAADEQAABC8AAAGJAAABFwAAAM4AAAHHAAAB5gAAAj4A\n",
       "AACbAAAAZwAAADcAAAHBAAAAPQAAACoAAAAqAAAAwAAAADgAAAArAAAAKAAAAB8AAAA0AAAAJwAA\n",
       "ACYAAAAaAAAAFHN0Y28AAAAAAAAAAQAAACwAAABidWR0YQAAAFptZXRhAAAAAAAAACFoZGxyAAAA\n",
       "AAAAAABtZGlyYXBwbAAAAAAAAAAAAAAAAC1pbHN0AAAAJal0b28AAAAdZGF0YQAAAAEAAAAATGF2\n",
       "ZjU2LjQwLjEwMQ==\n",
       "\">\n",
       "  Your browser does not support the video tag.\n",
       "</video>"
      ],
      "text/plain": [
       "<matplotlib.animation.FuncAnimation at 0x7f70e4be0b10>"
      ]
     },
     "execution_count": 18,
     "metadata": {},
     "output_type": "execute_result"
    }
   ],
   "source": [
    "fig = plt.figure(dpi=100, figsize=(5, 4))\n",
    "plt.scatter(x, y)\n",
    "line, = plt.plot(x, lin(a_guess, b_guess, x))\n",
    "plt.close()\n",
    "\n",
    "def animate(i):\n",
    "    line.set_ydata(lin(a_guess, b_guess, x))\n",
    "    for i in range(10):\n",
    "        upd()\n",
    "    return line,\n",
    "\n",
    "ani = animation.FuncAnimation(fig, animate, np.arange(0, 40), interval=100)\n",
    "ani"
   ]
  }
 ],
 "metadata": {
  "kernelspec": {
   "display_name": "Python [conda root]",
   "language": "python",
   "name": "conda-root-py"
  },
  "language_info": {
   "codemirror_mode": {
    "name": "ipython",
    "version": 2
   },
   "file_extension": ".py",
   "mimetype": "text/x-python",
   "name": "python",
   "nbconvert_exporter": "python",
   "pygments_lexer": "ipython2",
   "version": "2.7.13"
  }
 },
 "nbformat": 4,
 "nbformat_minor": 2
}
